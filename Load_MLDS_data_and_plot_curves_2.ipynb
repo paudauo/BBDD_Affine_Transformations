{
 "cells": [
  {
   "cell_type": "markdown",
   "metadata": {
    "id": "AQDeke6Oa86Y"
   },
   "source": [
    "# Load MLDS Responses"
   ]
  },
  {
   "cell_type": "code",
   "execution_count": 1,
   "metadata": {
    "id": "HAOJqBrmvDl7"
   },
   "outputs": [],
   "source": [
    "import pandas as pd\n",
    "import numpy as np\n",
    "import matplotlib.pyplot as plt"
   ]
  },
  {
   "cell_type": "code",
   "execution_count": 2,
   "metadata": {
    "colab": {
     "base_uri": "https://localhost:8080/"
    },
    "executionInfo": {
     "elapsed": 859,
     "status": "ok",
     "timestamp": 1733937145832,
     "user": {
      "displayName": "Valero Laparra",
      "userId": "00355299981903664579"
     },
     "user_tz": -60
    },
    "id": "bwQ0w9LCa_j0",
    "outputId": "42eb84dc-391d-497e-b613-62061fb7ffaf"
   },
   "outputs": [
    {
     "name": "stdout",
     "output_type": "stream",
     "text": [
      "    Reference                Distorted  Response  Response_Scaled\n",
      "0  img_01.png  rot_img_01_level_01.png  0.000000         5.590099\n",
      "1  img_01.png  rot_img_01_level_02.png  0.516166         5.275201\n",
      "2  img_01.png  rot_img_01_level_03.png  0.840336         5.077435\n",
      "3  img_01.png  rot_img_01_level_04.png  1.569247         4.632746\n",
      "4  img_01.png  rot_img_01_level_05.png  1.889793         4.437191\n"
     ]
    }
   ],
   "source": [
    "# Load the data from the github repository\n",
    "url = 'https://raw.githubusercontent.com/paudauo/BBDD_Affine_Transformations/refs/heads/main/responses.csv'\n",
    "df = pd.read_csv(url,header=0, on_bad_lines='skip')\n",
    "print(df.head(5))"
   ]
  },
  {
   "cell_type": "code",
   "execution_count": 7,
   "metadata": {
    "executionInfo": {
     "elapsed": 2,
     "status": "ok",
     "timestamp": 1733937345981,
     "user": {
      "displayName": "Valero Laparra",
      "userId": "00355299981903664579"
     },
     "user_tz": -60
    },
    "id": "xR2XaAg8ci52"
   },
   "outputs": [],
   "source": [
    "# Select the distortion and the image to plot\n",
    "dist = 'gn' #'trans', 'scale', 'gn'\n",
    "img = '01' # '01', '02', ... '24'\n",
    "\n",
    "exp = dist + '_img_' + img\n",
    "filtered_df = df[df['Distorted'].str.startswith(exp)]"
   ]
  },
  {
   "cell_type": "code",
   "execution_count": 8,
   "metadata": {
    "colab": {
     "base_uri": "https://localhost:8080/",
     "height": 486
    },
    "executionInfo": {
     "elapsed": 384,
     "status": "ok",
     "timestamp": 1733937484217,
     "user": {
      "displayName": "Valero Laparra",
      "userId": "00355299981903664579"
     },
     "user_tz": -60
    },
    "id": "Cv3fi0-_uDFE",
    "outputId": "f4cdcc3c-5415-4981-acde-3fa229d7597c"
   },
   "outputs": [
    {
     "data": {
      "text/plain": [
       "Text(0, 0.5, 'Response')"
      ]
     },
     "execution_count": 8,
     "metadata": {},
     "output_type": "execute_result"
    },
    {
     "data": {
      "image/png": "[encoded data removed]",
      "text/plain": [
       "<Figure size 640x480 with 1 Axes>"
      ]
     },
     "metadata": {},
     "output_type": "display_data"
    }
   ],
   "source": [
    "# Plot the MLDS response\n",
    "# Data is normalized to have standard deviation 1,\n",
    "# i.e. responses are divided by the standard deviation of the model\n",
    "\n",
    "plt.errorbar(range(0,10),filtered_df['Response'].values,np.ones(10,))\n",
    "plt.xlabel('Distortion level')\n",
    "plt.ylabel('Response')"
   ]
  }
 ],
 "metadata": {
  "colab": {
   "authorship_tag": "ABX9TyMIFcpzqkfgRE5GPnFaPjc6",
   "provenance": []
  },
  "kernelspec": {
   "display_name": "paula",
   "language": "python",
   "name": "python3"
  },
  "language_info": {
   "codemirror_mode": {
    "name": "ipython",
    "version": 3
   },
   "file_extension": ".py",
   "mimetype": "text/x-python",
   "name": "python",
   "nbconvert_exporter": "python",
   "pygments_lexer": "ipython3",
   "version": "3.8.16"
  }
 },
 "nbformat": 4,
 "nbformat_minor": 0
}
