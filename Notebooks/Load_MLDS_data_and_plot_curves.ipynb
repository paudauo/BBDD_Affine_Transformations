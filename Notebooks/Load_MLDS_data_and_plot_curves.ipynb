{
  "cells": [
    {
      "cell_type": "markdown",
      "metadata": {
        "id": "AQDeke6Oa86Y"
      },
      "source": [
        "# Load and Visualize MLDS Responses\n",
        "\n",
        "This script loads the database of the MLDS curves described in\n",
        "**\"Response to Affine Transforms of Image Distance Metrics and Humans\"**.\n",
        "\n",
        "Then we select the data for one curve and we visualize it."
      ]
    },
    {
      "cell_type": "code",
      "execution_count": null,
      "metadata": {
        "id": "HAOJqBrmvDl7"
      },
      "outputs": [],
      "source": [
        "import pandas as pd\n",
        "import numpy as np\n",
        "import matplotlib.pyplot as plt"
      ]
    },
    {
      "cell_type": "code",
      "execution_count": null,
      "metadata": {
        "colab": {
          "base_uri": "https://localhost:8080/"
        },
        "id": "bwQ0w9LCa_j0",
        "outputId": "cdb0a006-4e9e-4555-cdd8-c13bd83019c5"
      },
      "outputs": [
        {
          "name": "stdout",
          "output_type": "stream",
          "text": [
            "    Reference                Distorted  Response  Response_Scaled\n",
            "0  img_01.png  rot_img_01_level_01.png  0.000000         5.590099\n",
            "1  img_01.png  rot_img_01_level_02.png  0.516166         5.275201\n",
            "2  img_01.png  rot_img_01_level_03.png  0.840336         5.077435\n",
            "3  img_01.png  rot_img_01_level_04.png  1.569247         4.632746\n",
            "4  img_01.png  rot_img_01_level_05.png  1.889793         4.437191\n"
          ]
        }
      ],
      "source": [
        "# Load the data from the github repository\n",
        "url = 'https://raw.githubusercontent.com/paudauo/BBDD_Affine_Transformations/refs/heads/main/responses.csv'\n",
        "df = pd.read_csv(url,header=0, on_bad_lines='skip')\n",
        "print(df.head(5))"
      ]
    },
    {
      "cell_type": "code",
      "execution_count": null,
      "metadata": {
        "colab": {
          "base_uri": "https://localhost:8080/",
          "height": 466
        },
        "id": "kIQUOcuH2nQP",
        "outputId": "402f7c73-43d4-4cec-9d4c-2403b9181ef5"
      },
      "outputs": [
        {
          "data": {
            "text/html": [
              "<div>\n",
              "<style scoped>\n",
              "    .dataframe tbody tr th:only-of-type {\n",
              "        vertical-align: middle;\n",
              "    }\n",
              "\n",
              "    .dataframe tbody tr th {\n",
              "        vertical-align: top;\n",
              "    }\n",
              "\n",
              "    .dataframe thead th {\n",
              "        text-align: right;\n",
              "    }\n",
              "</style>\n",
              "<table border=\"1\" class=\"dataframe\">\n",
              "  <thead>\n",
              "    <tr style=\"text-align: right;\">\n",
              "      <th></th>\n",
              "      <th>Distorted</th>\n",
              "    </tr>\n",
              "  </thead>\n",
              "  <tbody>\n",
              "    <tr>\n",
              "      <th>0</th>\n",
              "      <td>rot_img_01_level_01.png</td>\n",
              "    </tr>\n",
              "    <tr>\n",
              "      <th>1</th>\n",
              "      <td>rot_img_01_level_02.png</td>\n",
              "    </tr>\n",
              "    <tr>\n",
              "      <th>2</th>\n",
              "      <td>rot_img_01_level_03.png</td>\n",
              "    </tr>\n",
              "    <tr>\n",
              "      <th>3</th>\n",
              "      <td>rot_img_01_level_04.png</td>\n",
              "    </tr>\n",
              "    <tr>\n",
              "      <th>4</th>\n",
              "      <td>rot_img_01_level_05.png</td>\n",
              "    </tr>\n",
              "    <tr>\n",
              "      <th>...</th>\n",
              "      <td>...</td>\n",
              "    </tr>\n",
              "    <tr>\n",
              "      <th>955</th>\n",
              "      <td>gn_img_24_level_06.png</td>\n",
              "    </tr>\n",
              "    <tr>\n",
              "      <th>956</th>\n",
              "      <td>gn_img_24_level_07.png</td>\n",
              "    </tr>\n",
              "    <tr>\n",
              "      <th>957</th>\n",
              "      <td>gn_img_24_level_08.png</td>\n",
              "    </tr>\n",
              "    <tr>\n",
              "      <th>958</th>\n",
              "      <td>gn_img_24_level_09.png</td>\n",
              "    </tr>\n",
              "    <tr>\n",
              "      <th>959</th>\n",
              "      <td>gn_img_24_level_10.png</td>\n",
              "    </tr>\n",
              "  </tbody>\n",
              "</table>\n",
              "<p>960 rows × 1 columns</p>\n",
              "</div><br><label><b>dtype:</b> object</label>"
            ],
            "text/plain": [
              "0      rot_img_01_level_01.png\n",
              "1      rot_img_01_level_02.png\n",
              "2      rot_img_01_level_03.png\n",
              "3      rot_img_01_level_04.png\n",
              "4      rot_img_01_level_05.png\n",
              "                ...           \n",
              "955     gn_img_24_level_06.png\n",
              "956     gn_img_24_level_07.png\n",
              "957     gn_img_24_level_08.png\n",
              "958     gn_img_24_level_09.png\n",
              "959     gn_img_24_level_10.png\n",
              "Name: Distorted, Length: 960, dtype: object"
            ]
          },
          "execution_count": 9,
          "metadata": {},
          "output_type": "execute_result"
        }
      ],
      "source": [
        "df['Distorted']"
      ]
    },
    {
      "cell_type": "code",
      "execution_count": null,
      "metadata": {
        "id": "xR2XaAg8ci52"
      },
      "outputs": [],
      "source": [
        "# Select the distortion and the image to plot\n",
        "dist = 'scale' # 'rot' = rotation, 'gn' = gaussian noise, 'trans' = translation , 'scale' = scaling\n",
        "img = '01' # '01', '02', ... '24'\n",
        "\n",
        "exp = dist + '_img_' + img\n",
        "filtered_df = df[df['Distorted'].str.startswith(exp)]"
      ]
    },
    {
      "cell_type": "code",
      "execution_count": null,
      "metadata": {
        "colab": {
          "base_uri": "https://localhost:8080/",
          "height": 486
        },
        "id": "Cv3fi0-_uDFE",
        "outputId": "3e3a6f26-78ae-491d-ab92-70399cdaf8ef"
      },
      "outputs": [
        {
          "data": {
            "text/plain": [
              "Text(0, 0.5, 'Response')"
            ]
          },
          "execution_count": 21,
          "metadata": {},
          "output_type": "execute_result"
        },
        {
          "data": {
            "image/png": "[encoded data removed]",
            "text/plain": [
              "<Figure size 640x480 with 1 Axes>"
            ]
          },
          "metadata": {},
          "output_type": "display_data"
        }
      ],
      "source": [
        "# Plot the MLDS response\n",
        "# Data is normalized to have standard deviation 1,\n",
        "# i.e. responses are divided by the standard deviation of the model\n",
        "\n",
        "plt.errorbar(range(0,10),filtered_df['Response'].values,np.ones(10,))\n",
        "plt.xlabel('Distortion level')\n",
        "plt.ylabel('Response')"
      ]
    }
  ],
  "metadata": {
    "colab": {
      "provenance": []
    },
    "kernelspec": {
      "display_name": "Python 3",
      "name": "python3"
    },
    "language_info": {
      "name": "python"
    }
  },
  "nbformat": 4,
  "nbformat_minor": 0
}
