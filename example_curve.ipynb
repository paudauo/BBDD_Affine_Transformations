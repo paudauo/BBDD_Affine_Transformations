{
 "cells": [
  {
   "cell_type": "code",
   "execution_count": null,
   "metadata": {},
   "outputs": [],
   "source": [
    "import numpy as np\n",
    "import itertools\n",
    "import pandas as pd\n",
    "from jax import grad, jit, vmap\n",
    "import jax.numpy as jnp\n",
    "import jax.scipy as jscipy\n",
    "import matplotlib.pyplot as plt"
   ]
  },
  {
   "cell_type": "code",
   "execution_count": null,
   "metadata": {},
   "outputs": [],
   "source": [
    "#Create combinations\n",
    "\n",
    "count = 0\n",
    "NumLevels = 10\n",
    "MaxDiff = 7\n",
    "NumRep = 1\n",
    "combinations = []\n",
    "\n",
    "for i in range(1, NumLevels - 2):\n",
    "    for j in range(i + 1, NumLevels - 1):\n",
    "        for k in range(j + 1, NumLevels):\n",
    "            for l in range(k + 1, NumLevels + 1):\n",
    "                count += 1\n",
    "                combinations.append([i, j, k, l])\n",
    "\n",
    "\n",
    "combinations = np.asarray(combinations)\n",
    "\n",
    "combinations = combinations[np.abs(combinations[:, 3] - combinations[:, 2] - combinations[:, 1] + combinations[:, 0]) <= MaxDiff, :]\n",
    "\n",
    "\n",
    "num_rep = NumRep\n",
    "combinations = np.tile(combinations, (num_rep, 1))\n"
   ]
  },
  {
   "cell_type": "code",
   "execution_count": null,
   "metadata": {},
   "outputs": [],
   "source": [
    "#Read the answer file\n",
    "file_name = 'answers.csv'\n",
    "BBDD = pd.read_csv(file_name)"
   ]
  },
  {
   "cell_type": "code",
   "execution_count": null,
   "metadata": {},
   "outputs": [],
   "source": [
    "#Choose the distortion and the image\n",
    "im_ref=1  #Reference Image (1,...,24)\n",
    "transf = ['gaussian_noise'] #Distortion  (['rotation'] ['translation'] ['scale'] ['gaussian_noise'])\n",
    "\n",
    "\n",
    "Nimages=10\n",
    "BBDD = BBDD[BBDD['image_id_01'] == im_ref]\n",
    "BBDD = BBDD[BBDD['transformation'].isin(transf)]\n",
    "\n",
    "exps = BBDD[['distortion_level_11','distortion_level_12','distortion_level_21','distortion_level_22','answer']].values\n",
    "\n",
    "exps = exps-1\n",
    "exps = exps.astype('int')\n",
    "exps = exps[exps[:,4]>-1]"
   ]
  },
  {
   "cell_type": "code",
   "execution_count": null,
   "metadata": {},
   "outputs": [],
   "source": [
    "Np = 4000\n",
    "psi = np.zeros((Nimages,))\n",
    "psi = np.linspace(0,1,Nimages)\n",
    "sig = 0.1"
   ]
  },
  {
   "cell_type": "code",
   "execution_count": null,
   "metadata": {},
   "outputs": [],
   "source": [
    "def LL(x,psi,sig):\n",
    "    LL = 0\n",
    "    for n in range(x.shape[0]):\n",
    "        #print(n)\n",
    "        D =jnp.abs(psi[x[n,0]]-psi[x[n,1]])-jnp.abs(psi[x[n,2]]-psi[x[n,3]])\n",
    "        #print(D)\n",
    "        # Probabilidad de la elección\n",
    "        pp = jscipy.stats.norm.cdf(D/sig)\n",
    "        #print(pp)\n",
    "        # Esto es para definir si es la probabilidad de elegir la de 0 (p) o la de 1 (1-p)\n",
    "        aa = (x[n,4]-pp)\n",
    "        bb = ((-1)**(1+x[n,4]))\n",
    "        #print(aa,bb)\n",
    "        LL = LL + jnp.log(aa*bb)\n",
    "        #print(LL)\n",
    "    return LL"
   ]
  },
  {
   "cell_type": "code",
   "execution_count": null,
   "metadata": {},
   "outputs": [],
   "source": [
    "D_loss_D_psi = grad(LL,1)\n",
    "D_loss_D_sig = grad(LL,2)\n",
    "\n",
    "D_loss_D_psi = jit(D_loss_D_psi)\n",
    "D_loss_D_sig = jit(D_loss_D_sig)\n",
    "\n",
    "lr = 0.00001\n",
    "\n",
    "BS = 20\n",
    "cada = 100\n",
    "\n",
    "LLs = np.zeros((Np,))\n",
    "for ii in range(Np):\n",
    "\n",
    "        iii = np.random.permutation(exps.shape[0])[0:BS]\n",
    "        DD = D_loss_D_psi(exps[iii,:],psi,sig)\n",
    "        DDs = D_loss_D_sig(exps[iii,:],psi,sig)\n",
    "\n",
    "        psi[1:-1] =  psi[1:-1] + lr*DD[1:-1]\n",
    "        sig = sig + lr*DDs\n",
    "\n",
    "        LLs[ii] = LL(exps,psi,sig)\n",
    "        if np.mod(ii,cada)==0:\n",
    "            print(ii,np.round(LLs[ii],5),np.round(psi,3),np.round(sig,3))\n",
    "\n",
    "        if np.isnan(LLs[ii]):\n",
    "            break"
   ]
  },
  {
   "cell_type": "code",
   "execution_count": null,
   "metadata": {},
   "outputs": [],
   "source": [
    "plt.figure()\n",
    "SIGS = sig*np.ones(*psi.shape)\n",
    "xxx = np.linspace(0,psi.shape[0]-1,psi.shape[0])\n",
    "plt.errorbar(xxx,psi,SIGS)"
   ]
  }
 ],
 "metadata": {
  "kernelspec": {
   "display_name": "paula",
   "language": "python",
   "name": "python3"
  },
  "language_info": {
   "codemirror_mode": {
    "name": "ipython",
    "version": 3
   },
   "file_extension": ".py",
   "mimetype": "text/x-python",
   "name": "python",
   "nbconvert_exporter": "python",
   "pygments_lexer": "ipython3",
   "version": "3.8.16"
  }
 },
 "nbformat": 4,
 "nbformat_minor": 2
}
